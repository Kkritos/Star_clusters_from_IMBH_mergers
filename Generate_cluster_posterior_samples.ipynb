{
 "cells": [
  {
   "cell_type": "code",
   "execution_count": 1,
   "id": "3ffbd3c4",
   "metadata": {},
   "outputs": [],
   "source": [
    "from constants_and_functions import *\n",
    "\n",
    "import matplotlib.pyplot as plt\n",
    "from matplotlib.ticker import (MultipleLocator, AutoMinorLocator)\n",
    "from matplotlib.offsetbox import AnchoredText\n",
    "\n",
    "plt.rcParams.update({ \n",
    "  \"text.usetex\": True,\n",
    "  \"font.family\": \"Helvetica\"\n",
    "})"
   ]
  },
  {
   "cell_type": "markdown",
   "id": "3204d17b",
   "metadata": {},
   "source": [
    "## Load astro source posterior samples:"
   ]
  },
  {
   "cell_type": "code",
   "execution_count": 2,
   "id": "dd99611e",
   "metadata": {},
   "outputs": [],
   "source": [
    "# load astro source posterior samples for iso-lowz:\n",
    "\n",
    "folder = './posterior_samples_m1m2tm/'\n",
    "\n",
    "# 300+300 @2:\n",
    "astro_source_posterior_samples_300_300_2_iso_lowz_fs05 = \\\n",
    "np.load(folder+'astro_posterior_300_300_2_iso_lowz_fs05.npz')\n",
    "\n",
    "# 600+200 @2:\n",
    "astro_source_posterior_samples_600_200_2_iso_lowz_fs05 = \\\n",
    "np.load(folder+'astro_posterior_600_200_2_iso_lowz_fs05.npz')\n",
    "\n",
    "# 1000+400 @0.5:\n",
    "astro_source_posterior_samples_1000_400_05_iso_lowz_fs05 = \\\n",
    "np.load(folder+'astro_posterior_1000_400_05_iso_lowz_fs05.npz')\n",
    "\n",
    "# 200+200 @8:\n",
    "astro_source_posterior_samples_200_200_8_iso_lowz_fs05 = \\\n",
    "np.load(folder+'astro_posterior_200_200_8_iso_lowz_fs05.npz')\n",
    "\n",
    "# 300+300 @1:\n",
    "astro_source_posterior_samples_300_300_1_iso_lowz_fs05 = \\\n",
    "np.load(folder+'astro_posterior_300_300_1_iso_lowz_fs05.npz')\n",
    "\n",
    "# 300+300 @4:\n",
    "astro_source_posterior_samples_300_300_4_iso_lowz_fs05 = \\\n",
    "np.load(folder+'astro_posterior_300_300_4_iso_lowz_fs05.npz')\n",
    "\n",
    "# ---\n",
    "\n",
    "# 300+300 @2:\n",
    "astro_source_posterior_samples_300_300_2_iso_lowz_fs003 = \\\n",
    "np.load(folder+'astro_posterior_300_300_2_iso_lowz_fs003.npz')\n",
    "\n",
    "# 600+200 @2:\n",
    "astro_source_posterior_samples_600_200_2_iso_lowz_fs003 = \\\n",
    "np.load(folder+'astro_posterior_600_200_2_iso_lowz_fs003.npz')\n",
    "\n",
    "# 1000+400 @0.5:\n",
    "astro_source_posterior_samples_1000_400_05_iso_lowz_fs003 = \\\n",
    "np.load(folder+'astro_posterior_1000_400_05_iso_lowz_fs003.npz')\n",
    "\n",
    "# 200+200 @8:\n",
    "astro_source_posterior_samples_200_200_8_iso_lowz_fs003 = \\\n",
    "np.load(folder+'astro_posterior_200_200_8_iso_lowz_fs003.npz')\n",
    "\n",
    "# 300+300 @1:\n",
    "astro_source_posterior_samples_300_300_1_iso_lowz_fs003 = \\\n",
    "np.load(folder+'astro_posterior_300_300_1_iso_lowz_fs003.npz')\n",
    "\n",
    "# 300+300 @4:\n",
    "astro_source_posterior_samples_300_300_4_iso_lowz_fs003 = \\\n",
    "np.load(folder+'astro_posterior_300_300_4_iso_lowz_fs003.npz')"
   ]
  },
  {
   "cell_type": "code",
   "execution_count": 3,
   "id": "e1289798",
   "metadata": {},
   "outputs": [],
   "source": [
    "# load astro source posterior samples for iso-highz:\n",
    "\n",
    "folder = './posterior_samples_m1m2tm/'\n",
    "\n",
    "# 300+300 @2:\n",
    "astro_source_posterior_samples_300_300_2_iso_highz_fs05 = \\\n",
    "np.load(folder+'astro_posterior_300_300_2_iso_highz_fs05.npz')\n",
    "\n",
    "# 600+200 @2:\n",
    "astro_source_posterior_samples_600_200_2_iso_highz_fs05 = \\\n",
    "np.load(folder+'astro_posterior_600_200_2_iso_highz_fs05.npz')\n",
    "\n",
    "# 1000+400 @0.5:\n",
    "astro_source_posterior_samples_1000_400_05_iso_highz_fs05 = \\\n",
    "np.load(folder+'astro_posterior_1000_400_05_iso_highz_fs05.npz')\n",
    "\n",
    "# 200+200 @8:\n",
    "astro_source_posterior_samples_200_200_8_iso_highz_fs05 = \\\n",
    "np.load(folder+'astro_posterior_200_200_8_iso_highz_fs05.npz')\n",
    "\n",
    "# 300+300 @1:\n",
    "astro_source_posterior_samples_300_300_1_iso_highz_fs05 = \\\n",
    "np.load(folder+'astro_posterior_300_300_1_iso_highz_fs05.npz')\n",
    "\n",
    "# 300+300 @4:\n",
    "astro_source_posterior_samples_300_300_4_iso_highz_fs05 = \\\n",
    "np.load(folder+'astro_posterior_300_300_4_iso_highz_fs05.npz')\n",
    "\n",
    "# ---\n",
    "\n",
    "# 300+300 @2:\n",
    "astro_source_posterior_samples_300_300_2_iso_highz_fs003 = \\\n",
    "np.load(folder+'astro_posterior_300_300_2_iso_highz_fs003.npz')\n",
    "\n",
    "# 600+200 @2:\n",
    "astro_source_posterior_samples_600_200_2_iso_highz_fs003 = \\\n",
    "np.load(folder+'astro_posterior_600_200_2_iso_highz_fs003.npz')\n",
    "\n",
    "# 1000+400 @0.5:\n",
    "astro_source_posterior_samples_1000_400_05_iso_highz_fs003 = \\\n",
    "np.load(folder+'astro_posterior_1000_400_05_iso_highz_fs003.npz')\n",
    "\n",
    "# 200+200 @8:\n",
    "astro_source_posterior_samples_200_200_8_iso_highz_fs003 = \\\n",
    "np.load(folder+'astro_posterior_200_200_8_iso_highz_fs003.npz')\n",
    "\n",
    "# 300+300 @1:\n",
    "astro_source_posterior_samples_300_300_1_iso_highz_fs003 = \\\n",
    "np.load(folder+'astro_posterior_300_300_1_iso_highz_fs003.npz')\n",
    "\n",
    "# 300+300 @4:\n",
    "astro_source_posterior_samples_300_300_4_iso_highz_fs003 = \\\n",
    "np.load(folder+'astro_posterior_300_300_4_iso_highz_fs003.npz')"
   ]
  },
  {
   "cell_type": "code",
   "execution_count": 4,
   "id": "77d95e93",
   "metadata": {},
   "outputs": [],
   "source": [
    "# load astro source posterior samples for tid-lowz:\n",
    "\n",
    "folder = './posterior_samples_m1m2tm/'\n",
    "\n",
    "# 300+300 @2:\n",
    "astro_source_posterior_samples_300_300_2_tid_lowz_fs05 = \\\n",
    "np.load(folder+'astro_posterior_300_300_2_tid_lowz_fs05.npz')\n",
    "\n",
    "# 600+200 @2:\n",
    "astro_source_posterior_samples_600_200_2_tid_lowz_fs05 = \\\n",
    "np.load(folder+'astro_posterior_600_200_2_tid_lowz_fs05.npz')\n",
    "\n",
    "# 1000+400 @0.5:\n",
    "astro_source_posterior_samples_1000_400_05_tid_lowz_fs05 = \\\n",
    "np.load(folder+'astro_posterior_1000_400_05_tid_lowz_fs05.npz')\n",
    "\n",
    "# 200+200 @8:\n",
    "astro_source_posterior_samples_200_200_8_tid_lowz_fs05 = \\\n",
    "np.load(folder+'astro_posterior_200_200_8_tid_lowz_fs05.npz')\n",
    "\n",
    "# 300+300 @1:\n",
    "astro_source_posterior_samples_300_300_1_tid_lowz_fs05 = \\\n",
    "np.load(folder+'astro_posterior_300_300_1_tid_lowz_fs05.npz')\n",
    "\n",
    "# 300+300 @4:\n",
    "astro_source_posterior_samples_300_300_4_tid_lowz_fs05 = \\\n",
    "np.load(folder+'astro_posterior_300_300_4_tid_lowz_fs05.npz')\n",
    "\n",
    "# ---\n",
    "\n",
    "# 300+300 @2:\n",
    "astro_source_posterior_samples_300_300_2_tid_lowz_fs003 = \\\n",
    "np.load(folder+'astro_posterior_300_300_2_tid_lowz_fs003.npz')\n",
    "\n",
    "# 600+200 @2:\n",
    "astro_source_posterior_samples_600_200_2_tid_lowz_fs003 = \\\n",
    "np.load(folder+'astro_posterior_600_200_2_tid_lowz_fs003.npz')\n",
    "\n",
    "# 1000+400 @0.5:\n",
    "astro_source_posterior_samples_1000_400_05_tid_lowz_fs003 = \\\n",
    "np.load(folder+'astro_posterior_1000_400_05_tid_lowz_fs003.npz')\n",
    "\n",
    "# 200+200 @8:\n",
    "astro_source_posterior_samples_200_200_8_tid_lowz_fs003 = \\\n",
    "np.load(folder+'astro_posterior_200_200_8_tid_lowz_fs003.npz')\n",
    "\n",
    "# 300+300 @1:\n",
    "astro_source_posterior_samples_300_300_1_tid_lowz_fs003 = \\\n",
    "np.load(folder+'astro_posterior_300_300_1_tid_lowz_fs003.npz')\n",
    "\n",
    "# 300+300 @4:\n",
    "astro_source_posterior_samples_300_300_4_tid_lowz_fs003 = \\\n",
    "np.load(folder+'astro_posterior_300_300_4_tid_lowz_fs003.npz')"
   ]
  },
  {
   "cell_type": "code",
   "execution_count": 5,
   "id": "9f340de9",
   "metadata": {},
   "outputs": [],
   "source": [
    "# load astro source posterior samples for tid-highz:\n",
    "\n",
    "folder = './posterior_samples_m1m2tm/'\n",
    "\n",
    "# 300+300 @2:\n",
    "astro_source_posterior_samples_300_300_2_tid_highz_fs05 = \\\n",
    "np.load(folder+'astro_posterior_300_300_2_tid_highz_fs05.npz')\n",
    "\n",
    "# 600+200 @2:\n",
    "astro_source_posterior_samples_600_200_2_tid_highz_fs05 = \\\n",
    "np.load(folder+'astro_posterior_600_200_2_tid_highz_fs05.npz')\n",
    "\n",
    "# 1000+400 @0.5:\n",
    "astro_source_posterior_samples_1000_400_05_tid_highz_fs05 = \\\n",
    "np.load(folder+'astro_posterior_1000_400_05_tid_highz_fs05.npz')\n",
    "\n",
    "# 200+200 @8:\n",
    "astro_source_posterior_samples_200_200_8_tid_highz_fs05 = \\\n",
    "np.load(folder+'astro_posterior_200_200_8_tid_highz_fs05.npz')\n",
    "\n",
    "# 300+300 @1:\n",
    "astro_source_posterior_samples_300_300_1_tid_highz_fs05 = \\\n",
    "np.load(folder+'astro_posterior_300_300_1_tid_highz_fs05.npz')\n",
    "\n",
    "# 300+300 @4:\n",
    "astro_source_posterior_samples_300_300_4_tid_highz_fs05 = \\\n",
    "np.load(folder+'astro_posterior_300_300_4_tid_highz_fs05.npz')\n",
    "\n",
    "# ---\n",
    "\n",
    "# 300+300 @2:\n",
    "astro_source_posterior_samples_300_300_2_tid_highz_fs003 = \\\n",
    "np.load(folder+'astro_posterior_300_300_2_tid_highz_fs003.npz')\n",
    "\n",
    "# 600+200 @2:\n",
    "astro_source_posterior_samples_600_200_2_tid_highz_fs003 = \\\n",
    "np.load(folder+'astro_posterior_600_200_2_tid_highz_fs003.npz')\n",
    "\n",
    "# 1000+400 @0.5:\n",
    "astro_source_posterior_samples_1000_400_05_tid_highz_fs003 = \\\n",
    "np.load(folder+'astro_posterior_1000_400_05_tid_highz_fs003.npz')\n",
    "\n",
    "# 200+200 @8:\n",
    "astro_source_posterior_samples_200_200_8_tid_highz_fs003 = \\\n",
    "np.load(folder+'astro_posterior_200_200_8_tid_highz_fs003.npz')\n",
    "\n",
    "# 300+300 @1:\n",
    "astro_source_posterior_samples_300_300_1_tid_highz_fs003 = \\\n",
    "np.load(folder+'astro_posterior_300_300_1_tid_highz_fs003.npz')\n",
    "\n",
    "# 300+300 @4:\n",
    "astro_source_posterior_samples_300_300_4_tid_highz_fs003 = \\\n",
    "np.load(folder+'astro_posterior_300_300_4_tid_highz_fs003.npz')"
   ]
  },
  {
   "cell_type": "code",
   "execution_count": 6,
   "id": "7050d0fc",
   "metadata": {},
   "outputs": [],
   "source": [
    "N_samples_per_source_sample = 100\n",
    "N_samples = 10**5"
   ]
  },
  {
   "cell_type": "markdown",
   "id": "d72cb9a0",
   "metadata": {},
   "source": [
    "## Generate astro cluster posterior samples for iso-lowz:"
   ]
  },
  {
   "cell_type": "code",
   "execution_count": 7,
   "id": "e3991938",
   "metadata": {},
   "outputs": [
    {
     "name": "stderr",
     "output_type": "stream",
     "text": [
      "100%|███████████████████████████████████████████████████████████████████████████████████████████████████████████████████████████████████████| 1000/1000 [12:56<00:00,  1.29it/s]\n",
      "100%|███████████████████████████████████████████████████████████████████████████████████████████████████████████████████████████████████████| 1000/1000 [28:28<00:00,  1.71s/it]"
     ]
    },
    {
     "name": "stdout",
     "output_type": "stream",
     "text": [
      "CPU times: user 40min 35s, sys: 11.3 s, total: 40min 46s\n",
      "Wall time: 41min 24s\n"
     ]
    },
    {
     "name": "stderr",
     "output_type": "stream",
     "text": [
      "\n"
     ]
    }
   ],
   "source": [
    "%%time\n",
    "# generate astro cluster posterior samples for 300+300 @2:\n",
    "\n",
    "zeta = 0.0926\n",
    "xi_e = 0.0074\n",
    "zcl0_mean = 3.2\n",
    "\n",
    "astro_cluster_posterior_samples_300_300_2_iso_lowz_fs05 = generate_cluster_posterior_samples(\n",
    "    source_posterior_samples=astro_source_posterior_samples_300_300_2_iso_lowz_fs05, \n",
    "    N_samples_per_source_sample=N_samples_per_source_sample, N_samples=N_samples, seed=3546245, \n",
    "    with_tqdm=True, zeta=zeta, xi_e=xi_e, zcl0_mean=zcl0_mean, f_s=0.5\n",
    ")\n",
    "\n",
    "astro_cluster_posterior_samples_300_300_2_iso_lowz_fs003 = generate_cluster_posterior_samples(\n",
    "    source_posterior_samples=astro_source_posterior_samples_300_300_2_iso_lowz_fs003, \n",
    "    N_samples_per_source_sample=N_samples_per_source_sample, N_samples=N_samples, seed=3546245, \n",
    "    with_tqdm=True, zeta=zeta, xi_e=xi_e, zcl0_mean=zcl0_mean, f_s=0.03\n",
    ")"
   ]
  },
  {
   "cell_type": "code",
   "execution_count": 8,
   "id": "99f5915b",
   "metadata": {},
   "outputs": [
    {
     "name": "stderr",
     "output_type": "stream",
     "text": [
      "100%|███████████████████████████████████████████████████████████████████████████████████████████████████████████████████████████████████████| 1000/1000 [14:40<00:00,  1.14it/s]\n",
      "100%|███████████████████████████████████████████████████████████████████████████████████████████████████████████████████████████████████████| 1000/1000 [36:23<00:00,  2.18s/it]"
     ]
    },
    {
     "name": "stdout",
     "output_type": "stream",
     "text": [
      "CPU times: user 50min 23s, sys: 9.93 s, total: 50min 33s\n",
      "Wall time: 51min 4s\n"
     ]
    },
    {
     "name": "stderr",
     "output_type": "stream",
     "text": [
      "\n"
     ]
    }
   ],
   "source": [
    "%%time\n",
    "# generate astro cluster posterior samples for 600+200 @2:\n",
    "\n",
    "zeta = 0.0926\n",
    "xi_e = 0.0074\n",
    "zcl0_mean = 3.2\n",
    "\n",
    "astro_cluster_posterior_samples_600_200_2_iso_lowz_fs05 = generate_cluster_posterior_samples(\n",
    "    source_posterior_samples=astro_source_posterior_samples_600_200_2_iso_lowz_fs05, \n",
    "    N_samples_per_source_sample=N_samples_per_source_sample, N_samples=N_samples, seed=8234656, \n",
    "    with_tqdm=True, zeta=zeta, xi_e=xi_e, zcl0_mean=zcl0_mean, f_s=0.5\n",
    ")\n",
    "\n",
    "astro_cluster_posterior_samples_600_200_2_iso_lowz_fs003 = generate_cluster_posterior_samples(\n",
    "    source_posterior_samples=astro_source_posterior_samples_600_200_2_iso_lowz_fs003, \n",
    "    N_samples_per_source_sample=N_samples_per_source_sample, N_samples=N_samples, seed=8234656, \n",
    "    with_tqdm=True, zeta=zeta, xi_e=xi_e, zcl0_mean=zcl0_mean, f_s=0.03\n",
    ")"
   ]
  },
  {
   "cell_type": "code",
   "execution_count": 9,
   "id": "2560b86f",
   "metadata": {},
   "outputs": [
    {
     "name": "stderr",
     "output_type": "stream",
     "text": [
      "100%|███████████████████████████████████████████████████████████████████████████████████████████████████████████████████████████████████████| 1000/1000 [12:50<00:00,  1.30it/s]\n",
      "100%|███████████████████████████████████████████████████████████████████████████████████████████████████████████████████████████████████████| 1000/1000 [35:46<00:00,  2.15s/it]"
     ]
    },
    {
     "name": "stdout",
     "output_type": "stream",
     "text": [
      "CPU times: user 47min 58s, sys: 10 s, total: 48min 8s\n",
      "Wall time: 48min 37s\n"
     ]
    },
    {
     "name": "stderr",
     "output_type": "stream",
     "text": [
      "\n"
     ]
    }
   ],
   "source": [
    "%%time\n",
    "# generate astro cluster posterior samples for 1000+400 @0.5:\n",
    "\n",
    "zeta = 0.0926\n",
    "xi_e = 0.0074\n",
    "zcl0_mean = 3.2\n",
    "\n",
    "astro_cluster_posterior_samples_1000_400_05_iso_lowz_fs05 = generate_cluster_posterior_samples(\n",
    "    source_posterior_samples=astro_source_posterior_samples_1000_400_05_iso_lowz_fs05, \n",
    "    N_samples_per_source_sample=N_samples_per_source_sample, N_samples=N_samples, seed=87835333, \n",
    "    with_tqdm=True, zeta=zeta, xi_e=xi_e, zcl0_mean=zcl0_mean, f_s=0.5\n",
    ")\n",
    "\n",
    "astro_cluster_posterior_samples_1000_400_05_iso_lowz_fs003 = generate_cluster_posterior_samples(\n",
    "    source_posterior_samples=astro_source_posterior_samples_1000_400_05_iso_lowz_fs003, \n",
    "    N_samples_per_source_sample=N_samples_per_source_sample, N_samples=N_samples, seed=87835333, \n",
    "    with_tqdm=True, zeta=zeta, xi_e=xi_e, zcl0_mean=zcl0_mean, f_s=0.03\n",
    ")"
   ]
  },
  {
   "cell_type": "code",
   "execution_count": 10,
   "id": "856ba3bd",
   "metadata": {},
   "outputs": [
    {
     "name": "stderr",
     "output_type": "stream",
     "text": [
      "100%|███████████████████████████████████████████████████████████████████████████████████████████████████████████████████████████████████████| 1000/1000 [09:20<00:00,  1.78it/s]\n",
      "100%|███████████████████████████████████████████████████████████████████████████████████████████████████████████████████████████████████████| 1000/1000 [19:20<00:00,  1.16s/it]"
     ]
    },
    {
     "name": "stdout",
     "output_type": "stream",
     "text": [
      "CPU times: user 28min 8s, sys: 8.22 s, total: 28min 16s\n",
      "Wall time: 28min 41s\n"
     ]
    },
    {
     "name": "stderr",
     "output_type": "stream",
     "text": [
      "\n"
     ]
    }
   ],
   "source": [
    "%%time\n",
    "# generate astro cluster posterior samples for 300+300 @1:\n",
    "\n",
    "zeta = 0.0926\n",
    "xi_e = 0.0074\n",
    "zcl0_mean = 3.2\n",
    "\n",
    "astro_cluster_posterior_samples_300_300_1_iso_lowz_fs05 = generate_cluster_posterior_samples(\n",
    "    source_posterior_samples=astro_source_posterior_samples_300_300_1_iso_lowz_fs05, \n",
    "    N_samples_per_source_sample=N_samples_per_source_sample, N_samples=N_samples, seed=684253411, \n",
    "    with_tqdm=True, zeta=zeta, xi_e=xi_e, zcl0_mean=zcl0_mean, f_s=0.5\n",
    ")\n",
    "\n",
    "astro_cluster_posterior_samples_300_300_1_iso_lowz_fs003 = generate_cluster_posterior_samples(\n",
    "    source_posterior_samples=astro_source_posterior_samples_300_300_1_iso_lowz_fs003, \n",
    "    N_samples_per_source_sample=N_samples_per_source_sample, N_samples=N_samples, seed=684253411, \n",
    "    with_tqdm=True, zeta=zeta, xi_e=xi_e, zcl0_mean=zcl0_mean, f_s=0.03\n",
    ")"
   ]
  },
  {
   "cell_type": "code",
   "execution_count": 11,
   "id": "49dacab9",
   "metadata": {},
   "outputs": [
    {
     "name": "stderr",
     "output_type": "stream",
     "text": [
      "100%|███████████████████████████████████████████████████████████████████████████████████████████████████████████████████████████████████████| 1000/1000 [24:44<00:00,  1.48s/it]\n",
      "100%|█████████████████████████████████████████████████████████████████████████████████████████████████████████████████████████████████████| 1000/1000 [5:15:22<00:00, 18.92s/it]"
     ]
    },
    {
     "name": "stdout",
     "output_type": "stream",
     "text": [
      "CPU times: user 1h 47min 40s, sys: 37.2 s, total: 1h 48min 17s\n",
      "Wall time: 5h 40min 7s\n"
     ]
    },
    {
     "name": "stderr",
     "output_type": "stream",
     "text": [
      "\n"
     ]
    }
   ],
   "source": [
    "%%time\n",
    "# generate astro cluster posterior samples for 300+300 @4:\n",
    "\n",
    "zeta = 0.0926\n",
    "xi_e = 0.0074\n",
    "zcl0_mean = 3.2\n",
    "\n",
    "astro_cluster_posterior_samples_300_300_4_iso_lowz_fs05 = generate_cluster_posterior_samples(\n",
    "    source_posterior_samples=astro_source_posterior_samples_300_300_4_iso_lowz_fs05, \n",
    "    N_samples_per_source_sample=N_samples_per_source_sample, N_samples=N_samples, seed=6784453, \n",
    "    with_tqdm=True, zeta=zeta, xi_e=xi_e, zcl0_mean=zcl0_mean, f_s=0.5\n",
    ")\n",
    "\n",
    "astro_cluster_posterior_samples_300_300_4_iso_lowz_fs003 = generate_cluster_posterior_samples(\n",
    "    source_posterior_samples=astro_source_posterior_samples_300_300_4_iso_lowz_fs003, \n",
    "    N_samples_per_source_sample=N_samples_per_source_sample, N_samples=N_samples, seed=6784453, \n",
    "    with_tqdm=True, zeta=zeta, xi_e=xi_e, zcl0_mean=zcl0_mean, f_s=0.03\n",
    ")"
   ]
  },
  {
   "cell_type": "code",
   "execution_count": 12,
   "id": "89836716",
   "metadata": {},
   "outputs": [],
   "source": [
    "# save results for iso-lowz into folder:\n",
    "\n",
    "folder = './'\n",
    "\n",
    "# 300+300(2)\n",
    "np.savez(folder+'astro_cluster_posterior_samples_300_300_2_iso_lowz_fs05.npz', \n",
    "         log_Mcl0_1 = astro_cluster_posterior_samples_300_300_2_iso_lowz_fs05['log_Mcl0_1'], \n",
    "         log_rh0_1 = astro_cluster_posterior_samples_300_300_2_iso_lowz_fs05['log_rh0_1'], \n",
    "         zcl0_1 = astro_cluster_posterior_samples_300_300_2_iso_lowz_fs05['zcl0_1'], \n",
    "         Dtg_1 = astro_cluster_posterior_samples_300_300_2_iso_lowz_fs05['Dtg_1'], \n",
    "         log_Mcl0_2 = astro_cluster_posterior_samples_300_300_2_iso_lowz_fs05['log_Mcl0_2'], \n",
    "         log_rh0_2 = astro_cluster_posterior_samples_300_300_2_iso_lowz_fs05['log_rh0_2'], \n",
    "         zcl0_2 = astro_cluster_posterior_samples_300_300_2_iso_lowz_fs05['zcl0_2'], \n",
    "         Dtg_2 = astro_cluster_posterior_samples_300_300_2_iso_lowz_fs05['Dtg_2'], \n",
    "         Dtd = astro_cluster_posterior_samples_300_300_2_iso_lowz_fs05['Dtd']\n",
    "        )\n",
    "\n",
    "np.savez(folder+'astro_cluster_posterior_samples_300_300_2_iso_lowz_fs003.npz', \n",
    "         log_Mcl0_1 = astro_cluster_posterior_samples_300_300_2_iso_lowz_fs003['log_Mcl0_1'], \n",
    "         log_rh0_1 = astro_cluster_posterior_samples_300_300_2_iso_lowz_fs003['log_rh0_1'], \n",
    "         zcl0_1 = astro_cluster_posterior_samples_300_300_2_iso_lowz_fs003['zcl0_1'], \n",
    "         Dtg_1 = astro_cluster_posterior_samples_300_300_2_iso_lowz_fs003['Dtg_1'], \n",
    "         log_Mcl0_2 = astro_cluster_posterior_samples_300_300_2_iso_lowz_fs003['log_Mcl0_2'], \n",
    "         log_rh0_2 = astro_cluster_posterior_samples_300_300_2_iso_lowz_fs003['log_rh0_2'], \n",
    "         zcl0_2 = astro_cluster_posterior_samples_300_300_2_iso_lowz_fs003['zcl0_2'], \n",
    "         Dtg_2 = astro_cluster_posterior_samples_300_300_2_iso_lowz_fs003['Dtg_2'], \n",
    "         Dtd = astro_cluster_posterior_samples_300_300_2_iso_lowz_fs003['Dtd']\n",
    "        )\n",
    "\n",
    "# ---\n",
    "\n",
    "# 600+200(2)\n",
    "np.savez(folder+'astro_cluster_posterior_samples_600_200_2_iso_lowz_fs05.npz', \n",
    "         log_Mcl0_1 = astro_cluster_posterior_samples_600_200_2_iso_lowz_fs05['log_Mcl0_1'], \n",
    "         log_rh0_1 = astro_cluster_posterior_samples_600_200_2_iso_lowz_fs05['log_rh0_1'], \n",
    "         zcl0_1 = astro_cluster_posterior_samples_600_200_2_iso_lowz_fs05['zcl0_1'], \n",
    "         Dtg_1 = astro_cluster_posterior_samples_600_200_2_iso_lowz_fs05['Dtg_1'], \n",
    "         log_Mcl0_2 = astro_cluster_posterior_samples_600_200_2_iso_lowz_fs05['log_Mcl0_2'], \n",
    "         log_rh0_2 = astro_cluster_posterior_samples_600_200_2_iso_lowz_fs05['log_rh0_2'], \n",
    "         zcl0_2 = astro_cluster_posterior_samples_600_200_2_iso_lowz_fs05['zcl0_2'], \n",
    "         Dtg_2 = astro_cluster_posterior_samples_600_200_2_iso_lowz_fs05['Dtg_2'], \n",
    "         Dtd = astro_cluster_posterior_samples_600_200_2_iso_lowz_fs05['Dtd']\n",
    "        )\n",
    "\n",
    "np.savez(folder+'astro_cluster_posterior_samples_600_200_2_iso_lowz_fs003.npz', \n",
    "         log_Mcl0_1 = astro_cluster_posterior_samples_600_200_2_iso_lowz_fs003['log_Mcl0_1'], \n",
    "         log_rh0_1 = astro_cluster_posterior_samples_600_200_2_iso_lowz_fs003['log_rh0_1'], \n",
    "         zcl0_1 = astro_cluster_posterior_samples_600_200_2_iso_lowz_fs003['zcl0_1'], \n",
    "         Dtg_1 = astro_cluster_posterior_samples_600_200_2_iso_lowz_fs003['Dtg_1'], \n",
    "         log_Mcl0_2 = astro_cluster_posterior_samples_600_200_2_iso_lowz_fs003['log_Mcl0_2'], \n",
    "         log_rh0_2 = astro_cluster_posterior_samples_600_200_2_iso_lowz_fs003['log_rh0_2'], \n",
    "         zcl0_2 = astro_cluster_posterior_samples_600_200_2_iso_lowz_fs003['zcl0_2'], \n",
    "         Dtg_2 = astro_cluster_posterior_samples_600_200_2_iso_lowz_fs003['Dtg_2'], \n",
    "         Dtd = astro_cluster_posterior_samples_600_200_2_iso_lowz_fs003['Dtd']\n",
    "        )\n",
    "\n",
    "# ---\n",
    "\n",
    "# 1000+400(0.5)\n",
    "np.savez(folder+'astro_cluster_posterior_samples_1000_400_05_iso_lowz_fs05.npz', \n",
    "         log_Mcl0_1 = astro_cluster_posterior_samples_1000_400_05_iso_lowz_fs05['log_Mcl0_1'], \n",
    "         log_rh0_1 = astro_cluster_posterior_samples_1000_400_05_iso_lowz_fs05['log_rh0_1'], \n",
    "         zcl0_1 = astro_cluster_posterior_samples_1000_400_05_iso_lowz_fs05['zcl0_1'], \n",
    "         Dtg_1 = astro_cluster_posterior_samples_1000_400_05_iso_lowz_fs05['Dtg_1'], \n",
    "         log_Mcl0_2 = astro_cluster_posterior_samples_1000_400_05_iso_lowz_fs05['log_Mcl0_2'], \n",
    "         log_rh0_2 = astro_cluster_posterior_samples_1000_400_05_iso_lowz_fs05['log_rh0_2'], \n",
    "         zcl0_2 = astro_cluster_posterior_samples_1000_400_05_iso_lowz_fs05['zcl0_2'], \n",
    "         Dtg_2 = astro_cluster_posterior_samples_1000_400_05_iso_lowz_fs05['Dtg_2'], \n",
    "         Dtd = astro_cluster_posterior_samples_1000_400_05_iso_lowz_fs05['Dtd']\n",
    "        )\n",
    "\n",
    "np.savez(folder+'astro_cluster_posterior_samples_1000_400_05_iso_lowz_fs003.npz', \n",
    "         log_Mcl0_1 = astro_cluster_posterior_samples_1000_400_05_iso_lowz_fs003['log_Mcl0_1'], \n",
    "         log_rh0_1 = astro_cluster_posterior_samples_1000_400_05_iso_lowz_fs003['log_rh0_1'], \n",
    "         zcl0_1 = astro_cluster_posterior_samples_1000_400_05_iso_lowz_fs003['zcl0_1'], \n",
    "         Dtg_1 = astro_cluster_posterior_samples_1000_400_05_iso_lowz_fs003['Dtg_1'], \n",
    "         log_Mcl0_2 = astro_cluster_posterior_samples_1000_400_05_iso_lowz_fs003['log_Mcl0_2'], \n",
    "         log_rh0_2 = astro_cluster_posterior_samples_1000_400_05_iso_lowz_fs003['log_rh0_2'], \n",
    "         zcl0_2 = astro_cluster_posterior_samples_1000_400_05_iso_lowz_fs003['zcl0_2'], \n",
    "         Dtg_2 = astro_cluster_posterior_samples_1000_400_05_iso_lowz_fs003['Dtg_2'], \n",
    "         Dtd = astro_cluster_posterior_samples_1000_400_05_iso_lowz_fs003['Dtd']\n",
    "        )\n",
    "\n",
    "# ---\n",
    "\n",
    "# 300+300(1)\n",
    "np.savez(folder+'astro_cluster_posterior_samples_300_300_1_iso_lowz_fs05.npz', \n",
    "         log_Mcl0_1 = astro_cluster_posterior_samples_300_300_1_iso_lowz_fs05['log_Mcl0_1'], \n",
    "         log_rh0_1 = astro_cluster_posterior_samples_300_300_1_iso_lowz_fs05['log_rh0_1'], \n",
    "         zcl0_1 = astro_cluster_posterior_samples_300_300_1_iso_lowz_fs05['zcl0_1'], \n",
    "         Dtg_1 = astro_cluster_posterior_samples_300_300_1_iso_lowz_fs05['Dtg_1'], \n",
    "         log_Mcl0_2 = astro_cluster_posterior_samples_300_300_1_iso_lowz_fs05['log_Mcl0_2'], \n",
    "         log_rh0_2 = astro_cluster_posterior_samples_300_300_1_iso_lowz_fs05['log_rh0_2'], \n",
    "         zcl0_2 = astro_cluster_posterior_samples_300_300_1_iso_lowz_fs05['zcl0_2'], \n",
    "         Dtg_2 = astro_cluster_posterior_samples_300_300_1_iso_lowz_fs05['Dtg_2'], \n",
    "         Dtd = astro_cluster_posterior_samples_300_300_1_iso_lowz_fs05['Dtd']\n",
    "        )\n",
    "\n",
    "np.savez(folder+'astro_cluster_posterior_samples_300_300_1_iso_lowz_fs003.npz', \n",
    "         log_Mcl0_1 = astro_cluster_posterior_samples_300_300_1_iso_lowz_fs003['log_Mcl0_1'], \n",
    "         log_rh0_1 = astro_cluster_posterior_samples_300_300_1_iso_lowz_fs003['log_rh0_1'], \n",
    "         zcl0_1 = astro_cluster_posterior_samples_300_300_1_iso_lowz_fs003['zcl0_1'], \n",
    "         Dtg_1 = astro_cluster_posterior_samples_300_300_1_iso_lowz_fs003['Dtg_1'], \n",
    "         log_Mcl0_2 = astro_cluster_posterior_samples_300_300_1_iso_lowz_fs003['log_Mcl0_2'], \n",
    "         log_rh0_2 = astro_cluster_posterior_samples_300_300_1_iso_lowz_fs003['log_rh0_2'], \n",
    "         zcl0_2 = astro_cluster_posterior_samples_300_300_1_iso_lowz_fs003['zcl0_2'], \n",
    "         Dtg_2 = astro_cluster_posterior_samples_300_300_1_iso_lowz_fs003['Dtg_2'], \n",
    "         Dtd = astro_cluster_posterior_samples_300_300_1_iso_lowz_fs003['Dtd']\n",
    "        )\n",
    "\n",
    "# ---\n",
    "\n",
    "# 300+300(4)\n",
    "np.savez(folder+'astro_cluster_posterior_samples_300_300_4_iso_lowz_fs05.npz', \n",
    "         log_Mcl0_1 = astro_cluster_posterior_samples_300_300_4_iso_lowz_fs05['log_Mcl0_1'], \n",
    "         log_rh0_1 = astro_cluster_posterior_samples_300_300_4_iso_lowz_fs05['log_rh0_1'], \n",
    "         zcl0_1 = astro_cluster_posterior_samples_300_300_4_iso_lowz_fs05['zcl0_1'], \n",
    "         Dtg_1 = astro_cluster_posterior_samples_300_300_4_iso_lowz_fs05['Dtg_1'], \n",
    "         log_Mcl0_2 = astro_cluster_posterior_samples_300_300_4_iso_lowz_fs05['log_Mcl0_2'], \n",
    "         log_rh0_2 = astro_cluster_posterior_samples_300_300_4_iso_lowz_fs05['log_rh0_2'], \n",
    "         zcl0_2 = astro_cluster_posterior_samples_300_300_4_iso_lowz_fs05['zcl0_2'], \n",
    "         Dtg_2 = astro_cluster_posterior_samples_300_300_4_iso_lowz_fs05['Dtg_2'], \n",
    "         Dtd = astro_cluster_posterior_samples_300_300_4_iso_lowz_fs05['Dtd']\n",
    "        )\n",
    "\n",
    "np.savez(folder+'astro_cluster_posterior_samples_300_300_4_iso_lowz_fs003.npz', \n",
    "         log_Mcl0_1 = astro_cluster_posterior_samples_300_300_4_iso_lowz_fs003['log_Mcl0_1'], \n",
    "         log_rh0_1 = astro_cluster_posterior_samples_300_300_4_iso_lowz_fs003['log_rh0_1'], \n",
    "         zcl0_1 = astro_cluster_posterior_samples_300_300_4_iso_lowz_fs003['zcl0_1'], \n",
    "         Dtg_1 = astro_cluster_posterior_samples_300_300_4_iso_lowz_fs003['Dtg_1'], \n",
    "         log_Mcl0_2 = astro_cluster_posterior_samples_300_300_4_iso_lowz_fs003['log_Mcl0_2'], \n",
    "         log_rh0_2 = astro_cluster_posterior_samples_300_300_4_iso_lowz_fs003['log_rh0_2'], \n",
    "         zcl0_2 = astro_cluster_posterior_samples_300_300_4_iso_lowz_fs003['zcl0_2'], \n",
    "         Dtg_2 = astro_cluster_posterior_samples_300_300_4_iso_lowz_fs003['Dtg_2'], \n",
    "         Dtd = astro_cluster_posterior_samples_300_300_4_iso_lowz_fs003['Dtd']\n",
    "        )"
   ]
  },
  {
   "cell_type": "markdown",
   "id": "d0fff478",
   "metadata": {},
   "source": [
    "## Generate astro cluster posterior samples for iso-highz:"
   ]
  },
  {
   "cell_type": "code",
   "execution_count": 13,
   "id": "48c588d3",
   "metadata": {},
   "outputs": [
    {
     "name": "stderr",
     "output_type": "stream",
     "text": [
      "100%|█████████████████████████████████████████████████████████████████████████████████████████████████████████████████████████████████████| 1000/1000 [1:26:50<00:00,  5.21s/it]\n",
      "100%|████████████████████████████████████████████████████████████████████████████████████████████████████████████████████████████████████| 1000/1000 [10:53:01<00:00, 39.18s/it]"
     ]
    },
    {
     "name": "stdout",
     "output_type": "stream",
     "text": [
      "CPU times: user 4h 40min 47s, sys: 1min 16s, total: 4h 42min 3s\n",
      "Wall time: 12h 19min 52s\n"
     ]
    },
    {
     "name": "stderr",
     "output_type": "stream",
     "text": [
      "\n"
     ]
    }
   ],
   "source": [
    "%%time\n",
    "# generate astro cluster posterior samples for 200+200 @8:\n",
    "\n",
    "zeta = 0.0926\n",
    "xi_e = 0.0074\n",
    "zcl0_mean = 9.6\n",
    "\n",
    "astro_cluster_posterior_samples_200_200_8_iso_highz_fs05 = generate_cluster_posterior_samples(\n",
    "    source_posterior_samples=astro_source_posterior_samples_200_200_8_iso_highz_fs05, \n",
    "    N_samples_per_source_sample=N_samples_per_source_sample, N_samples=N_samples, seed=965375, \n",
    "    with_tqdm=True, zeta=zeta, xi_e=xi_e, zcl0_mean=zcl0_mean, f_s=0.5\n",
    ")\n",
    "\n",
    "astro_cluster_posterior_samples_200_200_8_iso_highz_fs003 = generate_cluster_posterior_samples(\n",
    "    source_posterior_samples=astro_source_posterior_samples_200_200_8_iso_highz_fs003, \n",
    "    N_samples_per_source_sample=N_samples_per_source_sample, N_samples=N_samples, seed=965375, \n",
    "    with_tqdm=True, zeta=zeta, xi_e=xi_e, zcl0_mean=zcl0_mean, f_s=0.03\n",
    ")"
   ]
  },
  {
   "cell_type": "code",
   "execution_count": 14,
   "id": "49d150dc",
   "metadata": {},
   "outputs": [],
   "source": [
    "# save results for iso-highz into folder:\n",
    "\n",
    "folder = './'\n",
    "\n",
    "# 200+200(8)\n",
    "np.savez(folder+'astro_cluster_posterior_samples_200_200_8_iso_highz_fs05.npz', \n",
    "         log_Mcl0_1 = astro_cluster_posterior_samples_200_200_8_iso_highz_fs05['log_Mcl0_1'], \n",
    "         log_rh0_1 = astro_cluster_posterior_samples_200_200_8_iso_highz_fs05['log_rh0_1'], \n",
    "         zcl0_1 = astro_cluster_posterior_samples_200_200_8_iso_highz_fs05['zcl0_1'], \n",
    "         Dtg_1 = astro_cluster_posterior_samples_200_200_8_iso_highz_fs05['Dtg_1'], \n",
    "         log_Mcl0_2 = astro_cluster_posterior_samples_200_200_8_iso_highz_fs05['log_Mcl0_2'], \n",
    "         log_rh0_2 = astro_cluster_posterior_samples_200_200_8_iso_highz_fs05['log_rh0_2'], \n",
    "         zcl0_2 = astro_cluster_posterior_samples_200_200_8_iso_highz_fs05['zcl0_2'], \n",
    "         Dtg_2 = astro_cluster_posterior_samples_200_200_8_iso_highz_fs05['Dtg_2'], \n",
    "         Dtd = astro_cluster_posterior_samples_200_200_8_iso_highz_fs05['Dtd']\n",
    "        )\n",
    "\n",
    "np.savez(folder+'astro_cluster_posterior_samples_200_200_8_iso_highz_fs003.npz', \n",
    "         log_Mcl0_1 = astro_cluster_posterior_samples_200_200_8_iso_highz_fs003['log_Mcl0_1'], \n",
    "         log_rh0_1 = astro_cluster_posterior_samples_200_200_8_iso_highz_fs003['log_rh0_1'], \n",
    "         zcl0_1 = astro_cluster_posterior_samples_200_200_8_iso_highz_fs003['zcl0_1'], \n",
    "         Dtg_1 = astro_cluster_posterior_samples_200_200_8_iso_highz_fs003['Dtg_1'], \n",
    "         log_Mcl0_2 = astro_cluster_posterior_samples_200_200_8_iso_highz_fs003['log_Mcl0_2'], \n",
    "         log_rh0_2 = astro_cluster_posterior_samples_200_200_8_iso_highz_fs003['log_rh0_2'], \n",
    "         zcl0_2 = astro_cluster_posterior_samples_200_200_8_iso_highz_fs003['zcl0_2'], \n",
    "         Dtg_2 = astro_cluster_posterior_samples_200_200_8_iso_highz_fs003['Dtg_2'], \n",
    "         Dtd = astro_cluster_posterior_samples_200_200_8_iso_highz_fs003['Dtd']\n",
    "        )"
   ]
  },
  {
   "cell_type": "markdown",
   "id": "981b497e",
   "metadata": {},
   "source": [
    "## Generate astro cluster posterior samples for tid-lowz:"
   ]
  },
  {
   "cell_type": "code",
   "execution_count": 15,
   "id": "6fdb456d",
   "metadata": {},
   "outputs": [
    {
     "name": "stderr",
     "output_type": "stream",
     "text": [
      "  0%|                                                                                                                                                  | 0/1000 [00:00<?, ?it/s]/Users/konstantinoskritos/Documents/GitHub/IMBH_follow-up/local5/constants_and_functions.py:317: RuntimeWarning: invalid value encountered in double_scalars\n",
      "  dfdt = -(A+1) * t**A * hyp2f1((A+1)/C, -D, (A+C+1)/C, -B*t**C) - t**(A+C) * D*(A+1)*B*C/(A+C+1)*hyp2f1((A+C+1)/C, 1-D, (A+2*C+1)/C, -B*t**C) # derivative value\n",
      "100%|███████████████████████████████████████████████████████████████████████████████████████████████████████████████████████████████████████| 1000/1000 [05:13<00:00,  3.19it/s]\n",
      " 33%|████████████████████████████████████████████▎                                                                                           | 326/1000 [02:38<05:31,  2.03it/s]/Users/konstantinoskritos/Documents/GitHub/IMBH_follow-up/local5/constants_and_functions.py:197: RuntimeWarning: invalid value encountered in double_scalars\n",
      "  N_star = N_star0 * x**(2 * xi_e / (7*xi_e - 3*zeta))\n",
      "100%|███████████████████████████████████████████████████████████████████████████████████████████████████████████████████████████████████████| 1000/1000 [08:07<00:00,  2.05it/s]"
     ]
    },
    {
     "name": "stdout",
     "output_type": "stream",
     "text": [
      "CPU times: user 13min 13s, sys: 3.14 s, total: 13min 16s\n",
      "Wall time: 13min 20s\n"
     ]
    },
    {
     "name": "stderr",
     "output_type": "stream",
     "text": [
      "\n"
     ]
    }
   ],
   "source": [
    "%%time\n",
    "# generate astro cluster posterior samples for 300+300 @2:\n",
    "\n",
    "zeta = 0.0725\n",
    "xi_e = 0.0450\n",
    "zcl0_mean = 3.2\n",
    "\n",
    "astro_cluster_posterior_samples_300_300_2_tid_lowz_fs05 = generate_cluster_posterior_samples(\n",
    "    source_posterior_samples=astro_source_posterior_samples_300_300_2_tid_lowz_fs05, \n",
    "    N_samples_per_source_sample=N_samples_per_source_sample, N_samples=N_samples, seed=2302322, \n",
    "    with_tqdm=True, zeta=zeta, xi_e=xi_e, zcl0_mean=zcl0_mean, f_s=0.5\n",
    ")\n",
    "\n",
    "astro_cluster_posterior_samples_300_300_2_tid_lowz_fs003 = generate_cluster_posterior_samples(\n",
    "    source_posterior_samples=astro_source_posterior_samples_300_300_2_tid_lowz_fs003, \n",
    "    N_samples_per_source_sample=N_samples_per_source_sample, N_samples=N_samples, seed=2302322, \n",
    "    with_tqdm=True, zeta=zeta, xi_e=xi_e, zcl0_mean=zcl0_mean, f_s=0.03\n",
    ")"
   ]
  },
  {
   "cell_type": "code",
   "execution_count": 16,
   "id": "a9ca5047",
   "metadata": {},
   "outputs": [
    {
     "name": "stderr",
     "output_type": "stream",
     "text": [
      "100%|███████████████████████████████████████████████████████████████████████████████████████████████████████████████████████████████████████| 1000/1000 [05:12<00:00,  3.20it/s]\n",
      "100%|███████████████████████████████████████████████████████████████████████████████████████████████████████████████████████████████████████| 1000/1000 [07:59<00:00,  2.08it/s]"
     ]
    },
    {
     "name": "stdout",
     "output_type": "stream",
     "text": [
      "CPU times: user 13min 6s, sys: 2.72 s, total: 13min 9s\n",
      "Wall time: 13min 12s\n"
     ]
    },
    {
     "name": "stderr",
     "output_type": "stream",
     "text": [
      "\n"
     ]
    }
   ],
   "source": [
    "%%time\n",
    "# generate astro cluster posterior samples for 600+200 @2:\n",
    "\n",
    "zeta = 0.0725\n",
    "xi_e = 0.0450\n",
    "zcl0_mean = 3.2\n",
    "\n",
    "astro_cluster_posterior_samples_600_200_2_tid_lowz_fs05 = generate_cluster_posterior_samples(\n",
    "    source_posterior_samples=astro_source_posterior_samples_600_200_2_tid_lowz_fs05, \n",
    "    N_samples_per_source_sample=N_samples_per_source_sample, N_samples=N_samples, seed=29349322, \n",
    "    with_tqdm=True, zeta=zeta, xi_e=xi_e, zcl0_mean=zcl0_mean, f_s=0.5\n",
    ")\n",
    "\n",
    "astro_cluster_posterior_samples_600_200_2_tid_lowz_fs003 = generate_cluster_posterior_samples(\n",
    "    source_posterior_samples=astro_source_posterior_samples_600_200_2_tid_lowz_fs003, \n",
    "    N_samples_per_source_sample=N_samples_per_source_sample, N_samples=N_samples, seed=29349322, \n",
    "    with_tqdm=True, zeta=zeta, xi_e=xi_e, zcl0_mean=zcl0_mean, f_s=0.03\n",
    ")"
   ]
  },
  {
   "cell_type": "code",
   "execution_count": 17,
   "id": "7f5aa68c",
   "metadata": {},
   "outputs": [
    {
     "name": "stderr",
     "output_type": "stream",
     "text": [
      "100%|███████████████████████████████████████████████████████████████████████████████████████████████████████████████████████████████████████| 1000/1000 [04:12<00:00,  3.96it/s]\n",
      "100%|███████████████████████████████████████████████████████████████████████████████████████████████████████████████████████████████████████| 1000/1000 [10:26<00:00,  1.60it/s]"
     ]
    },
    {
     "name": "stdout",
     "output_type": "stream",
     "text": [
      "CPU times: user 14min 27s, sys: 4.25 s, total: 14min 31s\n",
      "Wall time: 14min 39s\n"
     ]
    },
    {
     "name": "stderr",
     "output_type": "stream",
     "text": [
      "\n"
     ]
    }
   ],
   "source": [
    "%%time\n",
    "# generate astro cluster posterior samples for 1000+400 @0.5:\n",
    "\n",
    "zeta = 0.0725\n",
    "xi_e = 0.0450\n",
    "zcl0_mean = 3.2\n",
    "\n",
    "astro_cluster_posterior_samples_1000_400_05_tid_lowz_fs05 = generate_cluster_posterior_samples(\n",
    "    source_posterior_samples=astro_source_posterior_samples_1000_400_05_tid_lowz_fs05, \n",
    "    N_samples_per_source_sample=N_samples_per_source_sample, N_samples=N_samples, seed=34929333, \n",
    "    with_tqdm=True, zeta=zeta, xi_e=xi_e, zcl0_mean=zcl0_mean, f_s=0.5\n",
    ")\n",
    "\n",
    "astro_cluster_posterior_samples_1000_400_05_tid_lowz_fs003 = generate_cluster_posterior_samples(\n",
    "    source_posterior_samples=astro_source_posterior_samples_1000_400_05_tid_lowz_fs003, \n",
    "    N_samples_per_source_sample=N_samples_per_source_sample, N_samples=N_samples, seed=34929333, \n",
    "    with_tqdm=True, zeta=zeta, xi_e=xi_e, zcl0_mean=zcl0_mean, f_s=0.03\n",
    ")"
   ]
  },
  {
   "cell_type": "code",
   "execution_count": 18,
   "id": "598ea1aa",
   "metadata": {},
   "outputs": [
    {
     "name": "stderr",
     "output_type": "stream",
     "text": [
      "100%|███████████████████████████████████████████████████████████████████████████████████████████████████████████████████████████████████████| 1000/1000 [07:13<00:00,  2.31it/s]\n",
      "100%|███████████████████████████████████████████████████████████████████████████████████████████████████████████████████████████████████████| 1000/1000 [11:26<00:00,  1.46it/s]"
     ]
    },
    {
     "name": "stdout",
     "output_type": "stream",
     "text": [
      "CPU times: user 18min 25s, sys: 5.12 s, total: 18min 30s\n",
      "Wall time: 18min 40s\n"
     ]
    },
    {
     "name": "stderr",
     "output_type": "stream",
     "text": [
      "\n"
     ]
    }
   ],
   "source": [
    "%%time\n",
    "# generate astro cluster posterior samples for 300+300 @1:\n",
    "\n",
    "zeta = 0.0725\n",
    "xi_e = 0.0450\n",
    "zcl0_mean = 3.2\n",
    "\n",
    "astro_cluster_posterior_samples_300_300_1_tid_lowz_fs05 = generate_cluster_posterior_samples(\n",
    "    source_posterior_samples=astro_source_posterior_samples_300_300_1_tid_lowz_fs05, \n",
    "    N_samples_per_source_sample=N_samples_per_source_sample, N_samples=N_samples, seed=45687756, \n",
    "    with_tqdm=True, zeta=zeta, xi_e=xi_e, zcl0_mean=zcl0_mean, f_s=0.5\n",
    ")\n",
    "\n",
    "astro_cluster_posterior_samples_300_300_1_tid_lowz_fs003 = generate_cluster_posterior_samples(\n",
    "    source_posterior_samples=astro_source_posterior_samples_300_300_1_tid_lowz_fs003, \n",
    "    N_samples_per_source_sample=N_samples_per_source_sample, N_samples=N_samples, seed=45687756, \n",
    "    with_tqdm=True, zeta=zeta, xi_e=xi_e, zcl0_mean=zcl0_mean, f_s=0.03\n",
    ")"
   ]
  },
  {
   "cell_type": "code",
   "execution_count": 19,
   "id": "9ebb6e4c",
   "metadata": {},
   "outputs": [
    {
     "name": "stderr",
     "output_type": "stream",
     "text": [
      "100%|███████████████████████████████████████████████████████████████████████████████████████████████████████████████████████████████████████| 1000/1000 [11:02<00:00,  1.51it/s]\n",
      "100%|███████████████████████████████████████████████████████████████████████████████████████████████████████████████████████████████████████| 1000/1000 [16:58<00:00,  1.02s/it]"
     ]
    },
    {
     "name": "stdout",
     "output_type": "stream",
     "text": [
      "CPU times: user 27min 35s, sys: 7.44 s, total: 27min 42s\n",
      "Wall time: 28min 1s\n"
     ]
    },
    {
     "name": "stderr",
     "output_type": "stream",
     "text": [
      "\n"
     ]
    }
   ],
   "source": [
    "%%time\n",
    "# generate astro cluster posterior samples for 300+300 @4:\n",
    "\n",
    "zeta = 0.0725\n",
    "xi_e = 0.0450\n",
    "zcl0_mean = 3.2\n",
    "\n",
    "astro_cluster_posterior_samples_300_300_4_tid_lowz_fs05 = generate_cluster_posterior_samples(\n",
    "    source_posterior_samples=astro_source_posterior_samples_300_300_4_tid_lowz_fs05, \n",
    "    N_samples_per_source_sample=N_samples_per_source_sample, N_samples=N_samples, seed=6326222, \n",
    "    with_tqdm=True, zeta=zeta, xi_e=xi_e, zcl0_mean=zcl0_mean, f_s=0.5\n",
    ")\n",
    "\n",
    "astro_cluster_posterior_samples_300_300_4_tid_lowz_fs003 = generate_cluster_posterior_samples(\n",
    "    source_posterior_samples=astro_source_posterior_samples_300_300_4_tid_lowz_fs003, \n",
    "    N_samples_per_source_sample=N_samples_per_source_sample, N_samples=N_samples, seed=6326222, \n",
    "    with_tqdm=True, zeta=zeta, xi_e=xi_e, zcl0_mean=zcl0_mean, f_s=0.03\n",
    ")"
   ]
  },
  {
   "cell_type": "code",
   "execution_count": 20,
   "id": "4c45bbba",
   "metadata": {},
   "outputs": [],
   "source": [
    "# save results for tid-lowz into folder:\n",
    "\n",
    "folder = './'\n",
    "\n",
    "# 300+300(2)\n",
    "np.savez(folder+'astro_cluster_posterior_samples_300_300_2_tid_lowz_fs05.npz', \n",
    "         log_Mcl0_1 = astro_cluster_posterior_samples_300_300_2_tid_lowz_fs05['log_Mcl0_1'], \n",
    "         log_rh0_1 = astro_cluster_posterior_samples_300_300_2_tid_lowz_fs05['log_rh0_1'], \n",
    "         zcl0_1 = astro_cluster_posterior_samples_300_300_2_tid_lowz_fs05['zcl0_1'], \n",
    "         Dtg_1 = astro_cluster_posterior_samples_300_300_2_tid_lowz_fs05['Dtg_1'], \n",
    "         log_Mcl0_2 = astro_cluster_posterior_samples_300_300_2_tid_lowz_fs05['log_Mcl0_2'], \n",
    "         log_rh0_2 = astro_cluster_posterior_samples_300_300_2_tid_lowz_fs05['log_rh0_2'], \n",
    "         zcl0_2 = astro_cluster_posterior_samples_300_300_2_tid_lowz_fs05['zcl0_2'], \n",
    "         Dtg_2 = astro_cluster_posterior_samples_300_300_2_tid_lowz_fs05['Dtg_2'], \n",
    "         Dtd = astro_cluster_posterior_samples_300_300_2_tid_lowz_fs05['Dtd']\n",
    "        )\n",
    "\n",
    "np.savez(folder+'astro_cluster_posterior_samples_300_300_2_tid_lowz_fs003.npz', \n",
    "         log_Mcl0_1 = astro_cluster_posterior_samples_300_300_2_tid_lowz_fs003['log_Mcl0_1'], \n",
    "         log_rh0_1 = astro_cluster_posterior_samples_300_300_2_tid_lowz_fs003['log_rh0_1'], \n",
    "         zcl0_1 = astro_cluster_posterior_samples_300_300_2_tid_lowz_fs003['zcl0_1'], \n",
    "         Dtg_1 = astro_cluster_posterior_samples_300_300_2_tid_lowz_fs003['Dtg_1'], \n",
    "         log_Mcl0_2 = astro_cluster_posterior_samples_300_300_2_tid_lowz_fs003['log_Mcl0_2'], \n",
    "         log_rh0_2 = astro_cluster_posterior_samples_300_300_2_tid_lowz_fs003['log_rh0_2'], \n",
    "         zcl0_2 = astro_cluster_posterior_samples_300_300_2_tid_lowz_fs003['zcl0_2'], \n",
    "         Dtg_2 = astro_cluster_posterior_samples_300_300_2_tid_lowz_fs003['Dtg_2'], \n",
    "         Dtd = astro_cluster_posterior_samples_300_300_2_tid_lowz_fs003['Dtd']\n",
    "        )\n",
    "\n",
    "# ---\n",
    "\n",
    "# 600+200(2)\n",
    "np.savez(folder+'astro_cluster_posterior_samples_600_200_2_tid_lowz_fs05.npz', \n",
    "         log_Mcl0_1 = astro_cluster_posterior_samples_600_200_2_tid_lowz_fs05['log_Mcl0_1'], \n",
    "         log_rh0_1 = astro_cluster_posterior_samples_600_200_2_tid_lowz_fs05['log_rh0_1'], \n",
    "         zcl0_1 = astro_cluster_posterior_samples_600_200_2_tid_lowz_fs05['zcl0_1'], \n",
    "         Dtg_1 = astro_cluster_posterior_samples_600_200_2_tid_lowz_fs05['Dtg_1'], \n",
    "         log_Mcl0_2 = astro_cluster_posterior_samples_600_200_2_tid_lowz_fs05['log_Mcl0_2'], \n",
    "         log_rh0_2 = astro_cluster_posterior_samples_600_200_2_tid_lowz_fs05['log_rh0_2'], \n",
    "         zcl0_2 = astro_cluster_posterior_samples_600_200_2_tid_lowz_fs05['zcl0_2'], \n",
    "         Dtg_2 = astro_cluster_posterior_samples_600_200_2_tid_lowz_fs05['Dtg_2'], \n",
    "         Dtd = astro_cluster_posterior_samples_600_200_2_tid_lowz_fs05['Dtd']\n",
    "        )\n",
    "\n",
    "np.savez(folder+'astro_cluster_posterior_samples_600_200_2_tid_lowz_fs003.npz', \n",
    "         log_Mcl0_1 = astro_cluster_posterior_samples_600_200_2_tid_lowz_fs003['log_Mcl0_1'], \n",
    "         log_rh0_1 = astro_cluster_posterior_samples_600_200_2_tid_lowz_fs003['log_rh0_1'], \n",
    "         zcl0_1 = astro_cluster_posterior_samples_600_200_2_tid_lowz_fs003['zcl0_1'], \n",
    "         Dtg_1 = astro_cluster_posterior_samples_600_200_2_tid_lowz_fs003['Dtg_1'], \n",
    "         log_Mcl0_2 = astro_cluster_posterior_samples_600_200_2_tid_lowz_fs003['log_Mcl0_2'], \n",
    "         log_rh0_2 = astro_cluster_posterior_samples_600_200_2_tid_lowz_fs003['log_rh0_2'], \n",
    "         zcl0_2 = astro_cluster_posterior_samples_600_200_2_tid_lowz_fs003['zcl0_2'], \n",
    "         Dtg_2 = astro_cluster_posterior_samples_600_200_2_tid_lowz_fs003['Dtg_2'], \n",
    "         Dtd = astro_cluster_posterior_samples_600_200_2_tid_lowz_fs003['Dtd']\n",
    "        )\n",
    "\n",
    "# ---\n",
    "\n",
    "# 1000+400(0.5)\n",
    "np.savez(folder+'astro_cluster_posterior_samples_1000_400_05_tid_lowz_fs05.npz', \n",
    "         log_Mcl0_1 = astro_cluster_posterior_samples_1000_400_05_tid_lowz_fs05['log_Mcl0_1'], \n",
    "         log_rh0_1 = astro_cluster_posterior_samples_1000_400_05_tid_lowz_fs05['log_rh0_1'], \n",
    "         zcl0_1 = astro_cluster_posterior_samples_1000_400_05_tid_lowz_fs05['zcl0_1'], \n",
    "         Dtg_1 = astro_cluster_posterior_samples_1000_400_05_tid_lowz_fs05['Dtg_1'], \n",
    "         log_Mcl0_2 = astro_cluster_posterior_samples_1000_400_05_tid_lowz_fs05['log_Mcl0_2'], \n",
    "         log_rh0_2 = astro_cluster_posterior_samples_1000_400_05_tid_lowz_fs05['log_rh0_2'], \n",
    "         zcl0_2 = astro_cluster_posterior_samples_1000_400_05_tid_lowz_fs05['zcl0_2'], \n",
    "         Dtg_2 = astro_cluster_posterior_samples_1000_400_05_tid_lowz_fs05['Dtg_2'], \n",
    "         Dtd = astro_cluster_posterior_samples_1000_400_05_tid_lowz_fs05['Dtd']\n",
    "        )\n",
    "\n",
    "np.savez(folder+'astro_cluster_posterior_samples_1000_400_05_tid_lowz_fs003.npz', \n",
    "         log_Mcl0_1 = astro_cluster_posterior_samples_1000_400_05_tid_lowz_fs003['log_Mcl0_1'], \n",
    "         log_rh0_1 = astro_cluster_posterior_samples_1000_400_05_tid_lowz_fs003['log_rh0_1'], \n",
    "         zcl0_1 = astro_cluster_posterior_samples_1000_400_05_tid_lowz_fs003['zcl0_1'], \n",
    "         Dtg_1 = astro_cluster_posterior_samples_1000_400_05_tid_lowz_fs003['Dtg_1'], \n",
    "         log_Mcl0_2 = astro_cluster_posterior_samples_1000_400_05_tid_lowz_fs003['log_Mcl0_2'], \n",
    "         log_rh0_2 = astro_cluster_posterior_samples_1000_400_05_tid_lowz_fs003['log_rh0_2'], \n",
    "         zcl0_2 = astro_cluster_posterior_samples_1000_400_05_tid_lowz_fs003['zcl0_2'], \n",
    "         Dtg_2 = astro_cluster_posterior_samples_1000_400_05_tid_lowz_fs003['Dtg_2'], \n",
    "         Dtd = astro_cluster_posterior_samples_1000_400_05_tid_lowz_fs003['Dtd']\n",
    "        )\n",
    "\n",
    "# ---\n",
    "\n",
    "# 300+300(1)\n",
    "np.savez(folder+'astro_cluster_posterior_samples_300_300_1_tid_lowz_fs05.npz', \n",
    "         log_Mcl0_1 = astro_cluster_posterior_samples_300_300_1_tid_lowz_fs05['log_Mcl0_1'], \n",
    "         log_rh0_1 = astro_cluster_posterior_samples_300_300_1_tid_lowz_fs05['log_rh0_1'], \n",
    "         zcl0_1 = astro_cluster_posterior_samples_300_300_1_tid_lowz_fs05['zcl0_1'], \n",
    "         Dtg_1 = astro_cluster_posterior_samples_300_300_1_tid_lowz_fs05['Dtg_1'], \n",
    "         log_Mcl0_2 = astro_cluster_posterior_samples_300_300_1_tid_lowz_fs05['log_Mcl0_2'], \n",
    "         log_rh0_2 = astro_cluster_posterior_samples_300_300_1_tid_lowz_fs05['log_rh0_2'], \n",
    "         zcl0_2 = astro_cluster_posterior_samples_300_300_1_tid_lowz_fs05['zcl0_2'], \n",
    "         Dtg_2 = astro_cluster_posterior_samples_300_300_1_tid_lowz_fs05['Dtg_2'], \n",
    "         Dtd = astro_cluster_posterior_samples_300_300_1_tid_lowz_fs05['Dtd']\n",
    "        )\n",
    "\n",
    "np.savez(folder+'astro_cluster_posterior_samples_300_300_1_tid_lowz_fs003.npz', \n",
    "         log_Mcl0_1 = astro_cluster_posterior_samples_300_300_1_tid_lowz_fs003['log_Mcl0_1'], \n",
    "         log_rh0_1 = astro_cluster_posterior_samples_300_300_1_tid_lowz_fs003['log_rh0_1'], \n",
    "         zcl0_1 = astro_cluster_posterior_samples_300_300_1_tid_lowz_fs003['zcl0_1'], \n",
    "         Dtg_1 = astro_cluster_posterior_samples_300_300_1_tid_lowz_fs003['Dtg_1'], \n",
    "         log_Mcl0_2 = astro_cluster_posterior_samples_300_300_1_tid_lowz_fs003['log_Mcl0_2'], \n",
    "         log_rh0_2 = astro_cluster_posterior_samples_300_300_1_tid_lowz_fs003['log_rh0_2'], \n",
    "         zcl0_2 = astro_cluster_posterior_samples_300_300_1_tid_lowz_fs003['zcl0_2'], \n",
    "         Dtg_2 = astro_cluster_posterior_samples_300_300_1_tid_lowz_fs003['Dtg_2'], \n",
    "         Dtd = astro_cluster_posterior_samples_300_300_1_tid_lowz_fs003['Dtd']\n",
    "        )\n",
    "\n",
    "# ---\n",
    "\n",
    "# 300+300(4)\n",
    "np.savez(folder+'astro_cluster_posterior_samples_300_300_4_tid_lowz_fs05.npz', \n",
    "         log_Mcl0_1 = astro_cluster_posterior_samples_300_300_4_tid_lowz_fs05['log_Mcl0_1'], \n",
    "         log_rh0_1 = astro_cluster_posterior_samples_300_300_4_tid_lowz_fs05['log_rh0_1'], \n",
    "         zcl0_1 = astro_cluster_posterior_samples_300_300_4_tid_lowz_fs05['zcl0_1'], \n",
    "         Dtg_1 = astro_cluster_posterior_samples_300_300_4_tid_lowz_fs05['Dtg_1'], \n",
    "         log_Mcl0_2 = astro_cluster_posterior_samples_300_300_4_tid_lowz_fs05['log_Mcl0_2'], \n",
    "         log_rh0_2 = astro_cluster_posterior_samples_300_300_4_tid_lowz_fs05['log_rh0_2'], \n",
    "         zcl0_2 = astro_cluster_posterior_samples_300_300_4_tid_lowz_fs05['zcl0_2'], \n",
    "         Dtg_2 = astro_cluster_posterior_samples_300_300_4_tid_lowz_fs05['Dtg_2'], \n",
    "         Dtd = astro_cluster_posterior_samples_300_300_4_tid_lowz_fs05['Dtd']\n",
    "        )\n",
    "\n",
    "np.savez(folder+'astro_cluster_posterior_samples_300_300_4_tid_lowz_fs003.npz', \n",
    "         log_Mcl0_1 = astro_cluster_posterior_samples_300_300_4_tid_lowz_fs003['log_Mcl0_1'], \n",
    "         log_rh0_1 = astro_cluster_posterior_samples_300_300_4_tid_lowz_fs003['log_rh0_1'], \n",
    "         zcl0_1 = astro_cluster_posterior_samples_300_300_4_tid_lowz_fs003['zcl0_1'], \n",
    "         Dtg_1 = astro_cluster_posterior_samples_300_300_4_tid_lowz_fs003['Dtg_1'], \n",
    "         log_Mcl0_2 = astro_cluster_posterior_samples_300_300_4_tid_lowz_fs003['log_Mcl0_2'], \n",
    "         log_rh0_2 = astro_cluster_posterior_samples_300_300_4_tid_lowz_fs003['log_rh0_2'], \n",
    "         zcl0_2 = astro_cluster_posterior_samples_300_300_4_tid_lowz_fs003['zcl0_2'], \n",
    "         Dtg_2 = astro_cluster_posterior_samples_300_300_4_tid_lowz_fs003['Dtg_2'], \n",
    "         Dtd = astro_cluster_posterior_samples_300_300_4_tid_lowz_fs003['Dtd']\n",
    "        )"
   ]
  },
  {
   "cell_type": "markdown",
   "id": "51d3925c",
   "metadata": {},
   "source": [
    "## Generate astro cluster posterior samples for tid-highz:"
   ]
  },
  {
   "cell_type": "code",
   "execution_count": null,
   "id": "2809cfe6",
   "metadata": {},
   "outputs": [
    {
     "name": "stderr",
     "output_type": "stream",
     "text": [
      " 22%|██████████████████████████████▎                                                                                                         | 223/1000 [04:19<16:21,  1.26s/it]"
     ]
    }
   ],
   "source": [
    "%%time\n",
    "# generate astro cluster posterior samples for 200+200 @8:\n",
    "\n",
    "zeta = 0.0725\n",
    "xi_e = 0.0450\n",
    "zcl0_mean = 9.6\n",
    "\n",
    "astro_cluster_posterior_samples_200_200_8_tid_highz_fs05 = generate_cluster_posterior_samples(\n",
    "    source_posterior_samples=astro_source_posterior_samples_200_200_8_tid_highz_fs05, \n",
    "    N_samples_per_source_sample=N_samples_per_source_sample, N_samples=N_samples, seed=793874024, \n",
    "    with_tqdm=True, zeta=zeta, xi_e=xi_e, zcl0_mean=zcl0_mean, f_s=0.5\n",
    ")\n",
    "\n",
    "astro_cluster_posterior_samples_200_200_8_tid_highz_fs003 = generate_cluster_posterior_samples(\n",
    "    source_posterior_samples=astro_source_posterior_samples_200_200_8_tid_highz_fs003, \n",
    "    N_samples_per_source_sample=N_samples_per_source_sample, N_samples=N_samples, seed=793874024, \n",
    "    with_tqdm=True, zeta=zeta, xi_e=xi_e, zcl0_mean=zcl0_mean, f_s=0.03\n",
    ")"
   ]
  },
  {
   "cell_type": "code",
   "execution_count": null,
   "id": "f0bbb530",
   "metadata": {},
   "outputs": [],
   "source": [
    "# save results for tid-highz into folder:\n",
    "\n",
    "folder = './'\n",
    "\n",
    "# 200+200(8)\n",
    "np.savez(folder+'astro_cluster_posterior_samples_200_200_8_tid_highz_fs05.npz', \n",
    "         log_Mcl0_1 = astro_cluster_posterior_samples_200_200_8_tid_highz_fs05['log_Mcl0_1'], \n",
    "         log_rh0_1 = astro_cluster_posterior_samples_200_200_8_tid_highz_fs05['log_rh0_1'], \n",
    "         zcl0_1 = astro_cluster_posterior_samples_200_200_8_tid_highz_fs05['zcl0_1'], \n",
    "         Dtg_1 = astro_cluster_posterior_samples_200_200_8_tid_highz_fs05['Dtg_1'], \n",
    "         log_Mcl0_2 = astro_cluster_posterior_samples_200_200_8_tid_highz_fs05['log_Mcl0_2'], \n",
    "         log_rh0_2 = astro_cluster_posterior_samples_200_200_8_tid_highz_fs05['log_rh0_2'], \n",
    "         zcl0_2 = astro_cluster_posterior_samples_200_200_8_tid_highz_fs05['zcl0_2'], \n",
    "         Dtg_2 = astro_cluster_posterior_samples_200_200_8_tid_highz_fs05['Dtg_2'], \n",
    "         Dtd = astro_cluster_posterior_samples_200_200_8_tid_highz_fs05['Dtd']\n",
    "        )\n",
    "\n",
    "np.savez(folder+'astro_cluster_posterior_samples_200_200_8_tid_highz_fs003.npz', \n",
    "         log_Mcl0_1 = astro_cluster_posterior_samples_200_200_8_tid_highz_fs003['log_Mcl0_1'], \n",
    "         log_rh0_1 = astro_cluster_posterior_samples_200_200_8_tid_highz_fs003['log_rh0_1'], \n",
    "         zcl0_1 = astro_cluster_posterior_samples_200_200_8_tid_highz_fs003['zcl0_1'], \n",
    "         Dtg_1 = astro_cluster_posterior_samples_200_200_8_tid_highz_fs003['Dtg_1'], \n",
    "         log_Mcl0_2 = astro_cluster_posterior_samples_200_200_8_tid_highz_fs003['log_Mcl0_2'], \n",
    "         log_rh0_2 = astro_cluster_posterior_samples_200_200_8_tid_highz_fs003['log_rh0_2'], \n",
    "         zcl0_2 = astro_cluster_posterior_samples_200_200_8_tid_highz_fs003['zcl0_2'], \n",
    "         Dtg_2 = astro_cluster_posterior_samples_200_200_8_tid_highz_fs003['Dtg_2'], \n",
    "         Dtd = astro_cluster_posterior_samples_200_200_8_tid_highz_fs003['Dtd']\n",
    "        )"
   ]
  },
  {
   "cell_type": "code",
   "execution_count": null,
   "id": "3fc625a8",
   "metadata": {},
   "outputs": [],
   "source": []
  }
 ],
 "metadata": {
  "kernelspec": {
   "display_name": "cluster_inference_from_IMBH_mergers_ENV",
   "language": "python",
   "name": "cluster_inference_from_imbh_mergers_env"
  },
  "language_info": {
   "codemirror_mode": {
    "name": "ipython",
    "version": 3
   },
   "file_extension": ".py",
   "mimetype": "text/x-python",
   "name": "python",
   "nbconvert_exporter": "python",
   "pygments_lexer": "ipython3",
   "version": "3.9.17"
  }
 },
 "nbformat": 4,
 "nbformat_minor": 5
}
